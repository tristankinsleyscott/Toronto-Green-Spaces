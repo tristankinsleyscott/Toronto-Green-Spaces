{
 "cells": [
  {
   "cell_type": "code",
   "execution_count": 1,
   "metadata": {},
   "outputs": [],
   "source": [
    "import osmnx as ox\n",
    "import geopandas as gpd\n",
    "import matplotlib.pyplot as plt\n",
    "import pandas as pd\n",
    "from pyproj import CRS"
   ]
  },
  {
   "cell_type": "code",
   "execution_count": 2,
   "metadata": {},
   "outputs": [],
   "source": [
    "def tor_green_index(place='City of Toronto, Golden Horseshoe, Ontario, Canada',\n",
    "                    shapefile='Neighbourhoods/Neighbourhoods.shp', tag_type='landuse', tag_feat='grass'):\n",
    "    \n",
    "    # Reading the neighbourhood shapefile\n",
    "    neigh = gpd.read_file(shapefile)\n",
    "\n",
    "    # Location Selection\n",
    "    tags = {tag_type: tag_feat}\n",
    "    grass = ox.geometries_from_place(place, tags)\n",
    "\n",
    "    # Landuses to shapefile\n",
    "    neigh_grass = gpd.sjoin(neigh, grass, how='left', op='intersects')\n",
    "\n",
    "    # Grouping spatially joined grass landuses and counting them per neighbourhood\n",
    "    grouped_grass = neigh_grass.groupby('FIELD_7').count()\n",
    "    grouped_grass.reset_index(level=0, inplace=True)\n",
    "\n",
    "    # Eliminating unnecessary columns\n",
    "    grouped_grass = grouped_grass[['FIELD_7', 'landuse']]\n",
    "\n",
    "    # Reintroducing geometries in neigh_merge and merging with grouped_grass\n",
    "    neigh_merge = neigh[['FIELD_7', 'geometry']]\n",
    "    merged_df = neigh_merge.merge(grouped_grass, left_on='FIELD_7', right_on='FIELD_7')\n",
    "\n",
    "    # Calculating Density\n",
    "    merged_df['area'] = merged_df['geometry'].area\n",
    "    merged_df['density'] = merged_df['landuse']/merged_df['area']\n",
    "    merged_df['density'] = merged_df['density'].apply(lambda x: x//1000)\n",
    "\n",
    "    # Plotting\n",
    "    fig, ax = plt.subplots(figsize=(12,8))\n",
    "    merged_df.plot(ax=ax,\n",
    "           column='density',\n",
    "           linewidth=0.03,\n",
    "           cmap='Greens',\n",
    "           scheme='quantiles',\n",
    "           legend=True,\n",
    "           k=4,\n",
    "           alpha=0.9\n",
    "                  )\n",
    "\n",
    "    # Re-position the legend and set a title\n",
    "    ax.get_legend().set_bbox_to_anchor((1.3,1))\n",
    "    ax.get_legend().set_title('Density per Sq.Km.')\n",
    "    plt.title('Density of Green Spaces in the City of Toronto')\n",
    "\n",
    "    plt.tight_layout()\n",
    "    \n",
    "    return "
   ]
  }
 ],
 "metadata": {
  "kernelspec": {
   "display_name": "Python 3 (ipykernel)",
   "language": "python",
   "name": "python3"
  },
  "language_info": {
   "codemirror_mode": {
    "name": "ipython",
    "version": 3
   },
   "file_extension": ".py",
   "mimetype": "text/x-python",
   "name": "python",
   "nbconvert_exporter": "python",
   "pygments_lexer": "ipython3",
   "version": "3.9.7"
  }
 },
 "nbformat": 4,
 "nbformat_minor": 4
}
